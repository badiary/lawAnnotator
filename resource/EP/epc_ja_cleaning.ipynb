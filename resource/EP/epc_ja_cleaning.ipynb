{
 "cells": [
  {
   "cell_type": "markdown",
   "metadata": {},
   "source": [
    "## 欧州特許条約"
   ]
  },
  {
   "cell_type": "markdown",
   "metadata": {},
   "source": [
    "#### テキスト整形"
   ]
  },
  {
   "cell_type": "code",
   "execution_count": 1,
   "metadata": {},
   "outputs": [],
   "source": [
    "import re\n",
    "\n",
    "f = open('epc_ja_origin.txt', 'r', encoding=\"UTF-8\")\n",
    "origin = f.read()\n",
    "f.close()\n",
    "\n",
    "d = origin\n",
    "d = re.sub(\"^.*\\[削除\\]\\s*$\", \"\", d, flags=re.MULTILINE)\n",
    "d = re.sub(\"^第[A-Z]+[章部]\\s\\S+\\s*$\", \"\", d, flags=re.MULTILINE)\n",
    "d = re.sub(\"\f\", \"\\n\", d, flags=re.MULTILINE)\n",
    "d = re.sub(\"^\\s*[0-9]+\\s*$\", \"\\n\", d, flags=re.MULTILINE)\n",
    "d = re.sub(\"\\n\\n+\", \"hogefuga\\n\", d, flags=re.MULTILINE)\n",
    "d = re.sub(\"^(第[0-9a-z]+条)\\s(.*)$\", \"hogefuga\\\\1 \\\\2\", d, flags=re.MULTILINE)\n",
    "d = re.sub(\"^(\\([0-9a-z]+\\)\\s+)\", \"hogefuga\\\\1\", d, flags=re.MULTILINE)\n",
    "\n",
    "d = re.sub(\"\\n\", \"\", d, flags=re.MULTILINE)\n",
    "d = re.sub(\"(hogefuga)+\", \"\\n\", d, flags=re.MULTILINE)\n",
    "d = re.sub(\"\\n+\", \"\\n\", d, flags=re.MULTILINE)\n",
    "\n",
    "d = re.sub(\"^(第[0-9a-z]+条\\s\\S+)\\s(\\S+)\\s*$\", \"\\\\1\\n\\\\2\", d, flags=re.MULTILINE)\n",
    "\n",
    "f = open('epc_ja.txt', 'w', encoding=\"UTF-8\")\n",
    "f.write(d)\n",
    "f.close()"
   ]
  },
  {
   "cell_type": "markdown",
   "metadata": {},
   "source": [
    "#### 箇条書きをHTML化"
   ]
  },
  {
   "cell_type": "code",
   "execution_count": 2,
   "metadata": {},
   "outputs": [],
   "source": [
    "import re\n",
    "\n",
    "f = open('epc_ja.txt', 'r', encoding=\"UTF-8\")\n",
    "origin = f.read()\n",
    "f.close()\n",
    "\n",
    "\n",
    "d = origin\n",
    "d = re.sub(\"\\n\\(([0-9]+)\\) (.*)\", \":\\\\1 \\\\2\", d, flags=re.MULTILINE)\n",
    "d = re.sub(\"\\n\\(([a-z]+)\\) (.*)\", \";\\\\1 \\\\2\", d, flags=re.MULTILINE)\n",
    "\n",
    "d = re.sub(\"((?::[0-9]+[^:\\n<>]+)+)\", \"<dl>\\\\1</dl>\", d, flags=re.MULTILINE)\n",
    "d = re.sub(\":([0-9]+) ([^:\\n<>]+)\", \"<dt>(\\\\1)</dt><dd>\\\\2</dd>\", d, flags=re.MULTILINE)\n",
    "d = re.sub(\"((?:;[a-z]+[^;\\n<>]+)+)\", \"<dl>\\\\1</dl>\", d, flags=re.MULTILINE)\n",
    "d = re.sub(\";([a-z]+) ([^;\\n<>]+)\", \"<dt>(\\\\1)</dt><dd>\\\\2</dd>\", d, flags=re.MULTILINE)\n",
    "\n",
    "d = re.sub(\"^(第[0-9a-z]+条 [^ <]+) ?<dl>\", \"\\\\1 \\n<dl>\", d, flags=re.MULTILINE)\n",
    "d = re.sub(\"<dt>\", \"<div><dt>\", d, flags=re.MULTILINE)\n",
    "d = re.sub(\"</dd>\", \"</dd></div>\", d, flags=re.MULTILINE)\n",
    "\n",
    "d = re.sub(\"^ +$\", \"\", d, flags=re.MULTILINE)\n",
    "d = re.sub(\"\\n+\", \"\\n\", d, flags=re.MULTILINE)\n",
    "d = re.sub(\"^(第[0-9a-z]+条 )\", \"\\n\\\\1\", d, flags=re.MULTILINE)\n",
    "\n",
    "d = re.sub(\"((?:\\n- ([^\\n]+))+)\", \"\\n<ul>\\\\1\\n</ul>\", d, flags=re.MULTILINE)\n",
    "d = re.sub(\"\\n- ([^\\n]+)\", \"\\n<li>\\\\1</li>\", d, flags=re.MULTILINE)\n",
    "\n",
    "f = open('epc_ja.html', 'w', encoding=\"UTF-8\")\n",
    "f.write(d)\n",
    "f.close()"
   ]
  },
  {
   "cell_type": "code",
   "execution_count": null,
   "metadata": {},
   "outputs": [],
   "source": []
  }
 ],
 "metadata": {
  "kernelspec": {
   "display_name": "Python 3.8.9 64-bit",
   "language": "python",
   "name": "python3"
  },
  "language_info": {
   "codemirror_mode": {
    "name": "ipython",
    "version": 3
   },
   "file_extension": ".py",
   "mimetype": "text/x-python",
   "name": "python",
   "nbconvert_exporter": "python",
   "pygments_lexer": "ipython3",
   "version": "3.8.9"
  },
  "orig_nbformat": 4,
  "vscode": {
   "interpreter": {
    "hash": "31f2aee4e71d21fbe5cf8b01ff0e069b9275f58929596ceb00d14d90e3e16cd6"
   }
  }
 },
 "nbformat": 4,
 "nbformat_minor": 2
}
