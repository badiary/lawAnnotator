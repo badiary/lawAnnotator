{
 "cells": [
  {
   "cell_type": "code",
   "execution_count": 13,
   "metadata": {},
   "outputs": [],
   "source": [
    "import re"
   ]
  },
  {
   "cell_type": "markdown",
   "metadata": {},
   "source": [
    "## 実用新案法"
   ]
  },
  {
   "cell_type": "code",
   "execution_count": 15,
   "metadata": {},
   "outputs": [],
   "source": [
    "f = open('chikujo_util_origin.txt', 'r', encoding=\"UTF-8\")\n",
    "origin = f.read()\n",
    "f.close()"
   ]
  },
  {
   "cell_type": "code",
   "execution_count": 155,
   "metadata": {},
   "outputs": [
    {
     "data": {
      "text/plain": [
       "'\\n第一条\\n〔旧法との関係〕\\n\\u3000該当条文なし\\n〔趣旨〕\\n\\u3000本条は、実用新案法の目的について規定したものである。特許法の目的とほとんど同じであるが、保護の対象である考案について「物品の形状、構造又は組合せ'"
      ]
     },
     "execution_count": 155,
     "metadata": {},
     "output_type": "execute_result"
    }
   ],
   "source": [
    "d = origin\n",
    "d = re.sub(\"\f\", \"\\n\", d, flags=re.MULTILINE)\n",
    "d = re.sub(\"^第.{0,3}[節章].*$\", \"\", d, flags=re.MULTILINE)\n",
    "d = re.sub(\"^[0-9]+ 実用新案法\\s*$\", \"\", d, flags=re.MULTILINE)\n",
    "d = re.sub(\"^実用新案法 [0-9]+\\s*$\", \"\", d, flags=re.MULTILINE)\n",
    "d = re.sub(\"^（[^）]+）\\s*\", \"\", d, flags=re.MULTILINE)\n",
    "d = re.sub(\"^〔([^\\s]+)\\s+([^\\s]+)〕\", \"〔\\\\1\\\\2〕\", d, flags=re.MULTILINE)\n",
    "\n",
    "\n",
    "d = re.sub(\"^(第[〇一二三四五六七八九十百]+条(の[〇一二三四五六七八九十百]+)*)\\s+\", \"\\\\1hogee\", d, flags=re.MULTILINE)\n",
    "d = re.sub(\"^〔\", \"〔〔〔hoge\", d, flags=re.MULTILINE)\n",
    "d = re.sub(\"\\n\", \"\", d, flags=re.MULTILINE)\n",
    "d = re.sub(\"〔〔〔hoge\", \"\\n〔\", d, flags=re.MULTILINE)\n",
    "d = re.sub(\"(第[〇一二三四五六七八九十百]+条(の[〇一二三四五六七八九十百]+)*)hogee.*$\", \"\\n\\\\1\", d, flags=re.MULTILINE)\n",
    "d = re.sub(\"([０-９〕。]) \", \"\\\\1\\n　\", d, flags=re.MULTILINE)\n",
    "d = re.sub(\" \", \"\", d, flags=re.MULTILINE)\n",
    "\n",
    "\n",
    "d[0:100]"
   ]
  },
  {
   "cell_type": "code",
   "execution_count": 156,
   "metadata": {},
   "outputs": [],
   "source": [
    "f = open('chikujo_util.txt', 'w', encoding=\"UTF-8\")\n",
    "f.write(d)\n",
    "f.close()"
   ]
  },
  {
   "cell_type": "markdown",
   "metadata": {},
   "source": [
    "## 特許法"
   ]
  },
  {
   "cell_type": "code",
   "execution_count": 166,
   "metadata": {},
   "outputs": [],
   "source": [
    "f = open('chikujo_patent_origin.txt', 'r', encoding=\"UTF-8\")\n",
    "origin = f.read()\n",
    "f.close()"
   ]
  },
  {
   "cell_type": "code",
   "execution_count": 167,
   "metadata": {},
   "outputs": [
    {
     "data": {
      "text/plain": [
       "'\\n第一条\\n〔旧法との関係〕\\n\\u3000該当条文なし\\n〔趣旨〕\\n\\u3000本条は、この法律の目的（ひいては特許制度の目的）を示したものである。したがって、この法律の他の条文はすべて本条に規定する目的に帰一してくるもので'"
      ]
     },
     "execution_count": 167,
     "metadata": {},
     "output_type": "execute_result"
    }
   ],
   "source": [
    "d = origin\n",
    "d = re.sub(\"[\f􊏻􊬼]\", \"\\n\", d, flags=re.MULTILINE)\n",
    "d = re.sub(\"^第.{0,3}[節章].*$\", \"\", d, flags=re.MULTILINE)\n",
    "d = re.sub(\"^[0-9]+ 特 許 法\\s*$\", \"\", d, flags=re.MULTILINE)\n",
    "d = re.sub(\"^特 許 法 [0-9]+\\s*$\", \"\", d, flags=re.MULTILINE)\n",
    "d = re.sub(\"^（[^）]+）\\s*\", \"\", d, flags=re.MULTILINE)\n",
    "d = re.sub(\"^〔([^\\s]+)\\s+([^\\s]+)〕\", \"〔\\\\1\\\\2〕\", d, flags=re.MULTILINE)\n",
    "\n",
    "\n",
    "d = re.sub(\"^(第[〇一二三四五六七八九十百]+条(の[〇一二三四五六七八九十百]+)*)\\s+\", \"\\\\1hogee\", d, flags=re.MULTILINE)\n",
    "d = re.sub(\"^〔\", \"〔〔〔hoge\", d, flags=re.MULTILINE)\n",
    "d = re.sub(\"\\n\", \"\", d, flags=re.MULTILINE)\n",
    "d = re.sub(\"〔〔〔hoge\", \"\\n〔\", d, flags=re.MULTILINE)\n",
    "d = re.sub(\"(第[〇一二三四五六七八九十百]+条(の[〇一二三四五六七八九十百]+)*)hogee.*$\", \"\\n\\\\1\", d, flags=re.MULTILINE)\n",
    "d = re.sub(\"([０-９〕。]) \", \"\\\\1\\n　\", d, flags=re.MULTILINE)\n",
    "d = re.sub(\" \", \"\", d, flags=re.MULTILINE)\n",
    "\n",
    "\n",
    "d[0:100]"
   ]
  },
  {
   "cell_type": "code",
   "execution_count": 168,
   "metadata": {},
   "outputs": [],
   "source": [
    "f = open('chikujo_patent.txt', 'w', encoding=\"UTF-8\")\n",
    "f.write(d)\n",
    "f.close()"
   ]
  },
  {
   "cell_type": "code",
   "execution_count": null,
   "metadata": {},
   "outputs": [],
   "source": []
  }
 ],
 "metadata": {
  "kernelspec": {
   "display_name": "Python 3.8.9 64-bit",
   "language": "python",
   "name": "python3"
  },
  "language_info": {
   "codemirror_mode": {
    "name": "ipython",
    "version": 3
   },
   "file_extension": ".py",
   "mimetype": "text/x-python",
   "name": "python",
   "nbconvert_exporter": "python",
   "pygments_lexer": "ipython3",
   "version": "3.8.9"
  },
  "orig_nbformat": 4,
  "vscode": {
   "interpreter": {
    "hash": "31f2aee4e71d21fbe5cf8b01ff0e069b9275f58929596ceb00d14d90e3e16cd6"
   }
  }
 },
 "nbformat": 4,
 "nbformat_minor": 2
}
